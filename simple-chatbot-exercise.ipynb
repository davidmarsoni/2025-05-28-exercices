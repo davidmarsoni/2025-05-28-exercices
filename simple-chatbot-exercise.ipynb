{
 "cells": [
  {
   "cell_type": "markdown",
   "id": "5c812197",
   "metadata": {},
   "source": [
    "# Simple chatbot with image generation\n",
    "\n",
    "This notebook demonstrates how to create a simple chatbot that can either generate images or answer questions.\n",
    "\n",
    "1. Load the necessary libraries and environment variables.\n",
    "2. Create the textual chatbot.\n",
    "3. Create the image generation chatbot.\n",
    "4. Ask the user for input and generate a response.\n",
    "\n",
    "\n",
    "Please try not to run this notebook too many times for the same thing as each image generation costs some credits."
   ]
  },
  {
   "cell_type": "markdown",
   "id": "c9faa749",
   "metadata": {},
   "source": [
    "## Prerequisites\n",
    "\n",
    "Before running this notebook, you need:\n",
    "- An OpenAI API key"
   ]
  },
  {
   "cell_type": "code",
   "execution_count": null,
   "id": "181b925a",
   "metadata": {},
   "outputs": [],
   "source": [
    "# Install required packages\n",
    "!pip install llama-index llama-index-llms-openai python-dotenv openai nest-asyncio nbconvert requests\n",
    "\n",
    "# Verify installations\n",
    "import importlib\n",
    "\n",
    "def check_package(package_name):\n",
    "    try:\n",
    "        importlib.import_module(package_name)\n",
    "        return True\n",
    "    except ImportError:\n",
    "        return False\n",
    "\n",
    "packages = {\n",
    "    \"llama_index\": \"llama-index core\",\n",
    "    \"llama_index.llms.openai\": \"llama-index-llms-openai\",\n",
    "    \"dotenv\": \"python-dotenv\",\n",
    "    \"openai\": \"OpenAI API\",\n",
    "    \"nest_asyncio\": \"nest-asyncio\", \n",
    "    \"nbconvert\": \"nbconvert\",\n",
    "    \"requests\": \"requests\",\n",
    "}\n",
    "\n",
    "all_installed = True\n",
    "for package, display_name in packages.items():\n",
    "    installed = check_package(package)\n",
    "    print(f\"{display_name}: {'✅ Installed' if installed else '❌ Not installed'}\")\n",
    "    all_installed = all_installed and installed\n",
    "\n",
    "if all_installed:\n",
    "    print(\"\\n✅ All required packages are installed!\")\n",
    "else:\n",
    "    print(\"\\n⚠️ Some packages are missing. Run the installation command again.\")"
   ]
  },
  {
   "cell_type": "code",
   "execution_count": null,
   "id": "d8fc7015",
   "metadata": {},
   "outputs": [],
   "source": [
    "import os\n",
    "from dotenv import load_dotenv\n",
    "import nest_asyncio\n",
    "\n",
    "# Apply nest_asyncio to allow nested event loops (needed for some async operations)\n",
    "nest_asyncio.apply()\n",
    "\n",
    "# Load environment variables from .env file\n",
    "load_dotenv()\n",
    "\n",
    "# Get API keys from environment variables or set them directly\n",
    "OPENAI_API_KEY = os.getenv(\"OPENAI_API_KEY\")\n",
    "# If environment variables are not loaded, you can set them here\n",
    "# OPENAI_API_KEY = \"your-openai-api-key\"\n",
    "\n",
    "# Set environment variables\n",
    "os.environ[\"OPENAI_API_KEY\"] = OPENAI_API_KEY or \"\"\n",
    "\n",
    "# Verify API key is set\n",
    "if not OPENAI_API_KEY:\n",
    "    print(\"⚠️ Warning: OPENAI_API_KEY is not set\")\n",
    "else:\n",
    "    print(\"✅ API key is set\")"
   ]
  },
  {
   "cell_type": "markdown",
   "id": "dfa6c425",
   "metadata": {},
   "source": [
    "# Configure the 2 LLMs\n",
    "\n",
    "Setup the OpenAI language model to be used by our LLMs."
   ]
  },
  {
   "cell_type": "markdown",
   "id": "2dfbf1f3",
   "metadata": {},
   "source": [
    "## Textual LLM"
   ]
  },
  {
   "cell_type": "code",
   "execution_count": null,
   "id": "824b2767",
   "metadata": {},
   "outputs": [],
   "source": [
    "from llama_index.llms.openai import OpenAI\n",
    "\n",
    "# Exercise 1: Set up the LLM\n",
    "# Create an instance of the OpenAI LLM called textualChatbot with the specified model and test a simple prompt\n",
    "model=\"gpt-4.1-nano\"\n",
    "api_key=OPENAI_API_KEY\n"
   ]
  },
  {
   "cell_type": "markdown",
   "id": "1041c770",
   "metadata": {},
   "source": [
    "## Image chatbot\n",
    "\n",
    "This section creates a chatbot that can generate images based on user input. It uses the OpenAI API to generate images and display them in the notebook.\n",
    "\n",
    "This section is not built with LlamaIndex, but uses the default OpenAI API to generate images. It is a simple chatbot that can generate images based on user input. It uses the OpenAI API to generate images and display them in the notebook."
   ]
  },
  {
   "cell_type": "code",
   "execution_count": null,
   "id": "77815ee5",
   "metadata": {},
   "outputs": [],
   "source": [
    "from openai import OpenAI\n",
    "import os\n",
    "import datetime\n",
    "import base64\n",
    "from IPython.display import Image, display\n",
    "\n",
    "# Exercise 2: Create an OpenAI image generation client\n",
    "# Please follow the steps below to create an OpenAI image generation client\n",
    "\n",
    "# Step 0: Create an OpenAI client\n",
    "client = OpenAI(api_key=OPENAI_API_KEY)\n",
    "\n",
    "# Step 1: Create the prompt as a variable\n",
    "prompt = (\n",
    "    \"Create an artistic illustration of OpenAI and LlamaIndex working together. \"\n",
    "    \"The OpenAI logo (a hexagonal knot) is connected with digital circuits to a \"\n",
    "    \"stylized llama representing LlamaIndex, all in a futuristic AI research lab.\"\n",
    ")\n",
    "\n",
    "# Step 2: Generate image using OpenAI GPT-Image-1\n",
    "\n",
    "# YOUR CODE HERE\n",
    "\n",
    "# Step 3: Get the base64 encoded image and decode it\n",
    "\n",
    "# YOUR CODE HERE\n",
    "\n",
    "# Step 4: Save the image to a file with timestamp inside the image folder\n",
    "\n",
    "# YOUR CODE HERE\n",
    "\n",
    "# Save the image directly from the bytes\n",
    "with open(image_path, \"wb\") as f:\n",
    "    f.write(image_bytes)\n",
    "print(f\"Image saved to {image_path}\")\n",
    "\n",
    "# Step 5: Display the image in the notebook\n",
    "\n",
    "# Display the image in the notebook if in an IPython environment\n",
    "try:\n",
    "    display(Image(image_path))\n",
    "except ImportError:\n",
    "    print(\"IPython not available for displaying the image\")\n",
    "\n",
    "\n",
    "# Some documentation to help you :\n",
    "# - https://platform.openai.com/docs/guides/image-generation"
   ]
  },
  {
   "cell_type": "markdown",
   "id": "1cb782d9",
   "metadata": {},
   "source": [
    "# Combine the 2 LLMs with a basic ask the user\n"
   ]
  },
  {
   "cell_type": "code",
   "execution_count": null,
   "id": "8bc2e83b",
   "metadata": {},
   "outputs": [],
   "source": [
    "import os\n",
    "import datetime\n",
    "import base64\n",
    "from openai import OpenAI\n",
    "\n",
    "# Ask the user for the mode of the chatbot\n",
    "def get_chatbot_mode():\n",
    "    mode = input(\"Enter the mode of the chatbot (textual/visual): \").strip().lower()\n",
    "    if mode not in [\"textual\", \"visual\"]:\n",
    "        print(\"Invalid mode. Please enter 'textual' or 'visual'.\")\n",
    "        return get_chatbot_mode()\n",
    "    return mode\n",
    "chatbot_mode = get_chatbot_mode()\n",
    "\n",
    "# Exercise 3: Create a chatbot based on the mode\n",
    "# Run the appropriate code based on the mode\n"
   ]
  }
 ],
 "metadata": {
  "kernelspec": {
   "display_name": "Python 3",
   "language": "python",
   "name": "python3"
  },
  "language_info": {
   "codemirror_mode": {
    "name": "ipython",
    "version": 3
   },
   "file_extension": ".py",
   "mimetype": "text/x-python",
   "name": "python",
   "nbconvert_exporter": "python",
   "pygments_lexer": "ipython3",
   "version": "3.13.2"
  }
 },
 "nbformat": 4,
 "nbformat_minor": 5
}
